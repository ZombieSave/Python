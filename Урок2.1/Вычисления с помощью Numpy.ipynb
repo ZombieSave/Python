{
 "cells": [
  {
   "cell_type": "markdown",
   "id": "ca6e8574",
   "metadata": {},
   "source": [
    "##### Задание 1. \n",
    "Создайте массив Numpy под названием a размером 5x2, то есть состоящий из 5 строк и 2 столбцов. Первый столбец должен содержать числа 1, 2, 3, 3, 1, а второй - числа 6, 8, 11, 10, 7. Будем считать, что каждый столбец - это признак, а строка - наблюдение. Затем найдите среднее значение по каждому признаку, используя метод mean массива Numpy. Результат запишите в массив mean_a, в нем должно быть 2 элемента.\n"
   ]
  },
  {
   "cell_type": "code",
   "execution_count": 2,
   "id": "41995f84",
   "metadata": {},
   "outputs": [
    {
     "name": "stdout",
     "output_type": "stream",
     "text": [
      "mean_a: [2.  8.4]\n"
     ]
    }
   ],
   "source": [
    "import numpy as np\n",
    "\n",
    "a = np.array([[1, 6],\n",
    "              [2, 8],\n",
    "              [3, 11],\n",
    "              [3, 10],\n",
    "              [1, 7]])\n",
    "\n",
    "sign_a = a[0:,0:1]\n",
    "sign_b = a[0:,1:2]\n",
    "mean_a = np.array([np.mean(sign_a), np.mean(sign_b)])\n",
    "\n",
    "print(f\"mean_a: {mean_a}\")\n"
   ]
  },
  {
   "cell_type": "markdown",
   "id": "b68465b5",
   "metadata": {},
   "source": [
    "#### Задание 2\n",
    "Вычислите массив a_centered, отняв от значений массива “а” средние значения соответствующих признаков, содержащиеся в массиве mean_a. Вычисление должно производиться в одно действие. Получившийся массив должен иметь размер 5x2.\n"
   ]
  },
  {
   "cell_type": "code",
   "execution_count": 3,
   "id": "c354b8b8",
   "metadata": {},
   "outputs": [
    {
     "name": "stdout",
     "output_type": "stream",
     "text": [
      "[[-1.  -2.4]\n",
      " [ 0.  -0.4]\n",
      " [ 1.   2.6]\n",
      " [ 1.   1.6]\n",
      " [-1.  -1.4]]\n"
     ]
    }
   ],
   "source": [
    "a_centered = a - mean_a\n",
    "\n",
    "print(a_centered)"
   ]
  },
  {
   "cell_type": "markdown",
   "id": "a4bb77e2",
   "metadata": {},
   "source": [
    "#### Задание 3\n",
    "Найдите скалярное произведение столбцов массива a_centered. В результате должна получиться величина a_centered_sp. Затем поделите a_centered_sp на N-1, где N - число наблюдений."
   ]
  },
  {
   "cell_type": "code",
   "execution_count": 4,
   "id": "287ed053",
   "metadata": {},
   "outputs": [
    {
     "name": "stdout",
     "output_type": "stream",
     "text": [
      "a_centered_sp: 8.0\n",
      "ковариация: 2.0\n"
     ]
    }
   ],
   "source": [
    "rows_count, cols_count = a_centered.shape\n",
    "a_centered_1 = a_centered[0:, 0:1]\n",
    "a_centered_2 = a_centered[0:, 1:2]\n",
    "\n",
    "x = np.array([-1, 0, 1, 1,-1]).reshape(rows_count)\n",
    "y = np.array([-2.4, -0.4, 2.6, 1.6, -1.4]).reshape(rows_count)\n",
    "a_centered_sp = x @ y\n",
    "\n",
    "print(f\"a_centered_sp: {a_centered_sp}\")\n",
    "print(f\"ковариация: {a_centered_sp / (rows_count - 1)}\")"
   ]
  },
  {
   "cell_type": "markdown",
   "id": "31d9933b",
   "metadata": {},
   "source": [
    "#### Задание 4**\n",
    "В этом задании проверьте получившееся число, вычислив ковариацию еще одним способом - с помощью функции np.cov. В качестве аргумента m функция np.cov должна принимать транспонированный массив “a”. В получившейся ковариационной матрице (массив Numpy размером 2x2) искомое значение ковариации будет равно элементу в строке с индексом 0 и столбце с индексом 1."
   ]
  },
  {
   "cell_type": "code",
   "execution_count": 5,
   "id": "5b18cc6b",
   "metadata": {},
   "outputs": [
    {
     "name": "stdout",
     "output_type": "stream",
     "text": [
      "ковариация: 2.0\n"
     ]
    }
   ],
   "source": [
    "a_t = a.T\n",
    "cov_matrix = np.cov(a_t)\n",
    "print(f\"ковариация: {cov_matrix[0,1]}\")"
   ]
  }
 ],
 "metadata": {
  "kernelspec": {
   "display_name": "Python 3",
   "language": "python",
   "name": "python3"
  },
  "language_info": {
   "codemirror_mode": {
    "name": "ipython",
    "version": 3
   },
   "file_extension": ".py",
   "mimetype": "text/x-python",
   "name": "python",
   "nbconvert_exporter": "python",
   "pygments_lexer": "ipython3",
   "version": "3.8.5"
  }
 },
 "nbformat": 4,
 "nbformat_minor": 5
}
