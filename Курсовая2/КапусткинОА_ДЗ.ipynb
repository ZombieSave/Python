{
 "cells": [
  {
   "cell_type": "markdown",
   "id": "e91ab60b",
   "metadata": {},
   "source": [
    "### Домашнее задание"
   ]
  },
  {
   "cell_type": "markdown",
   "id": "92ecd3c3",
   "metadata": {},
   "source": [
    "#### 1. Расскажите, как работает регуляризация в решающих деревьях, какие параметры мы штрафуем в данных алгоритмах?"
   ]
  },
  {
   "cell_type": "markdown",
   "id": "9152257f",
   "metadata": {},
   "source": [
    "К функции потерь добавляется слагаемое которое штрафует модель за большое количество листьев. Чем больше листьев тем больше ошибка. Так же регуляризация работает методом подбора количества деревьев, глубины дерева, количества листьев, learning rate."
   ]
  },
  {
   "cell_type": "markdown",
   "id": "0415fee1",
   "metadata": {},
   "source": [
    "#### 2. По какому принципу рассчитывается \"важность признака (feature_importance)\" в ансамблях деревьев?"
   ]
  },
  {
   "cell_type": "markdown",
   "id": "48cae62b",
   "metadata": {},
   "source": [
    "Важность признака расчитывается по принципу насколько он был эффективен и часто использован при каждом разбиении в каждом дереве. Эффективен - насколько \n",
    "признак уменьшил ошибку при разбиении по нему (по всем деревьям)."
   ]
  }
 ],
 "metadata": {
  "kernelspec": {
   "display_name": "Python 3",
   "language": "python",
   "name": "python3"
  },
  "language_info": {
   "codemirror_mode": {
    "name": "ipython",
    "version": 3
   },
   "file_extension": ".py",
   "mimetype": "text/x-python",
   "name": "python",
   "nbconvert_exporter": "python",
   "pygments_lexer": "ipython3",
   "version": "3.8.5"
  }
 },
 "nbformat": 4,
 "nbformat_minor": 5
}
